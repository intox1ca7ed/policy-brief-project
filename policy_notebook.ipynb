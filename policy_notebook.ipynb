{
 "cells": [
  {
   "cell_type": "markdown",
   "id": "c5a14152",
   "metadata": {},
   "source": [
    "#\tCitizen Participation and Digital Inclusion in E-Government Platform (petition.parliament.uk)\n",
    "\n",
    "During our data exploration, we identified two separate petition datasets maintained by the UK Government: \n",
    "\n",
    "- Current platform contains petitions from approximately 6 month ago to the present\n",
    "- Archived platform holds over 52,000 petitions from the 2010–2024 period. \n",
    "\n",
    "\n",
    "\n",
    "\n",
    "\n",
    "________READ THE TEXT BELOW SOMEONE!!________________\n",
    "\n",
    "\n",
    "We found that the UK Government actually runs two separate petition platforms — one current and one archived. The archived version includes over 50,000 petitions from 2010 to 2024, which is great in terms of volume and history. But it doesn't include open petitions anymore, and we can't access structured data like government responses or real-time status updates. Since our project is about how people engage with the current platform, and we’re aiming to give practical recommendations for improving it, we decided to focus on the live petition site. It gives us everything we need — like petition status, signature thresholds, and whether a petition got an official response — and it fits our research questions and audience much better.\n",
    "\n"
   ]
  },
  {
   "cell_type": "markdown",
   "id": "b8ab17ec",
   "metadata": {},
   "source": [
    "## Import + Load"
   ]
  },
  {
   "cell_type": "code",
   "execution_count": 71,
   "id": "7f1c3d75",
   "metadata": {},
   "outputs": [
    {
     "data": {
      "application/vnd.microsoft.datawrangler.viewer.v0+json": {
       "columns": [
        {
         "name": "index",
         "rawType": "int64",
         "type": "integer"
        },
        {
         "name": "Petition",
         "rawType": "object",
         "type": "string"
        },
        {
         "name": "URL",
         "rawType": "object",
         "type": "string"
        },
        {
         "name": "State",
         "rawType": "object",
         "type": "string"
        },
        {
         "name": "Signatures Count",
         "rawType": "int64",
         "type": "integer"
        }
       ],
       "conversionMethod": "pd.DataFrame",
       "ref": "c6b3e599-b7b7-4a57-afb1-2ddc19d47aaf",
       "rows": [
        [
         "0",
         "Fund reconstruction surgery and psychosexual therapy for FGM survivors",
         "https://petition.parliament.uk/petitions/700001",
         "closed",
         "939"
        ],
        [
         "1",
         "Apply for the UK to join the European Union as a full member as soon as possible",
         "https://petition.parliament.uk/petitions/700005",
         "closed",
         "136652"
        ],
        [
         "2",
         "Rejoin the European Union",
         "https://petition.parliament.uk/petitions/700006",
         "rejected",
         "10"
        ],
        [
         "3",
         "Require dating apps to ensure ID and DBS checks on users & ban violent offenders",
         "https://petition.parliament.uk/petitions/700007",
         "open",
         "1216"
        ],
        [
         "4",
         "Fund Covid booster vaccines for all, with priority for Long Covid sufferers",
         "https://petition.parliament.uk/petitions/700009",
         "open",
         "710"
        ],
        [
         "5",
         "Only allow alcohol to be sold in pubs and in wine stores between certain times\r\n",
         "https://petition.parliament.uk/petitions/700010",
         "open",
         "89"
        ],
        [
         "6",
         "Donate migrant boats to Ukraine",
         "https://petition.parliament.uk/petitions/700011",
         "open",
         "436"
        ]
       ],
       "shape": {
        "columns": 4,
        "rows": 7
       }
      },
      "text/html": [
       "<div>\n",
       "<style scoped>\n",
       "    .dataframe tbody tr th:only-of-type {\n",
       "        vertical-align: middle;\n",
       "    }\n",
       "\n",
       "    .dataframe tbody tr th {\n",
       "        vertical-align: top;\n",
       "    }\n",
       "\n",
       "    .dataframe thead th {\n",
       "        text-align: right;\n",
       "    }\n",
       "</style>\n",
       "<table border=\"1\" class=\"dataframe\">\n",
       "  <thead>\n",
       "    <tr style=\"text-align: right;\">\n",
       "      <th></th>\n",
       "      <th>Petition</th>\n",
       "      <th>URL</th>\n",
       "      <th>State</th>\n",
       "      <th>Signatures Count</th>\n",
       "    </tr>\n",
       "  </thead>\n",
       "  <tbody>\n",
       "    <tr>\n",
       "      <th>0</th>\n",
       "      <td>Fund reconstruction surgery and psychosexual t...</td>\n",
       "      <td>https://petition.parliament.uk/petitions/700001</td>\n",
       "      <td>closed</td>\n",
       "      <td>939</td>\n",
       "    </tr>\n",
       "    <tr>\n",
       "      <th>1</th>\n",
       "      <td>Apply for the UK to join the European Union as...</td>\n",
       "      <td>https://petition.parliament.uk/petitions/700005</td>\n",
       "      <td>closed</td>\n",
       "      <td>136652</td>\n",
       "    </tr>\n",
       "    <tr>\n",
       "      <th>2</th>\n",
       "      <td>Rejoin the European Union</td>\n",
       "      <td>https://petition.parliament.uk/petitions/700006</td>\n",
       "      <td>rejected</td>\n",
       "      <td>10</td>\n",
       "    </tr>\n",
       "    <tr>\n",
       "      <th>3</th>\n",
       "      <td>Require dating apps to ensure ID and DBS check...</td>\n",
       "      <td>https://petition.parliament.uk/petitions/700007</td>\n",
       "      <td>open</td>\n",
       "      <td>1216</td>\n",
       "    </tr>\n",
       "    <tr>\n",
       "      <th>4</th>\n",
       "      <td>Fund Covid booster vaccines for all, with prio...</td>\n",
       "      <td>https://petition.parliament.uk/petitions/700009</td>\n",
       "      <td>open</td>\n",
       "      <td>710</td>\n",
       "    </tr>\n",
       "    <tr>\n",
       "      <th>5</th>\n",
       "      <td>Only allow alcohol to be sold in pubs and in w...</td>\n",
       "      <td>https://petition.parliament.uk/petitions/700010</td>\n",
       "      <td>open</td>\n",
       "      <td>89</td>\n",
       "    </tr>\n",
       "    <tr>\n",
       "      <th>6</th>\n",
       "      <td>Donate migrant boats to Ukraine</td>\n",
       "      <td>https://petition.parliament.uk/petitions/700011</td>\n",
       "      <td>open</td>\n",
       "      <td>436</td>\n",
       "    </tr>\n",
       "  </tbody>\n",
       "</table>\n",
       "</div>"
      ],
      "text/plain": [
       "                                            Petition  \\\n",
       "0  Fund reconstruction surgery and psychosexual t...   \n",
       "1  Apply for the UK to join the European Union as...   \n",
       "2                          Rejoin the European Union   \n",
       "3  Require dating apps to ensure ID and DBS check...   \n",
       "4  Fund Covid booster vaccines for all, with prio...   \n",
       "5  Only allow alcohol to be sold in pubs and in w...   \n",
       "6                    Donate migrant boats to Ukraine   \n",
       "\n",
       "                                               URL     State  Signatures Count  \n",
       "0  https://petition.parliament.uk/petitions/700001    closed               939  \n",
       "1  https://petition.parliament.uk/petitions/700005    closed            136652  \n",
       "2  https://petition.parliament.uk/petitions/700006  rejected                10  \n",
       "3  https://petition.parliament.uk/petitions/700007      open              1216  \n",
       "4  https://petition.parliament.uk/petitions/700009      open               710  \n",
       "5  https://petition.parliament.uk/petitions/700010      open                89  \n",
       "6  https://petition.parliament.uk/petitions/700011      open               436  "
      ]
     },
     "execution_count": 71,
     "metadata": {},
     "output_type": "execute_result"
    }
   ],
   "source": [
    "import pandas as pd\n",
    "import numpy as np\n",
    "import matplotlib.pyplot as plt\n",
    "\n",
    "#active petitions\n",
    "df = pd.read_csv(\"petitions-live.csv\")\n",
    "\n",
    "#submitted during the 2010-2024 parliament\n",
    "#df = pd.read_csv(\"petitions-archive.csv\")\n",
    "df.head(7)"
   ]
  },
  {
   "cell_type": "markdown",
   "id": "18ee3ca3",
   "metadata": {},
   "source": [
    "## Basic Information"
   ]
  },
  {
   "cell_type": "code",
   "execution_count": 72,
   "id": "5bde4920",
   "metadata": {},
   "outputs": [
    {
     "name": "stdout",
     "output_type": "stream",
     "text": [
      "Total petitions: 4393\n"
     ]
    },
    {
     "data": {
      "text/plain": [
       "State\n",
       "rejected    2545\n",
       "open        1840\n",
       "closed         8\n",
       "Name: count, dtype: int64"
      ]
     },
     "execution_count": 72,
     "metadata": {},
     "output_type": "execute_result"
    }
   ],
   "source": [
    "print(f\"Total petitions: {len(df)}\")\n",
    "\n",
    "df[\"State\"].value_counts()"
   ]
  },
  {
   "cell_type": "markdown",
   "id": "3290114c",
   "metadata": {},
   "source": [
    "## Petitions showcase"
   ]
  },
  {
   "cell_type": "code",
   "execution_count": 73,
   "id": "05606431",
   "metadata": {},
   "outputs": [
    {
     "name": "stdout",
     "output_type": "stream",
     "text": [
      "🔹 Most Popular Petition:\n",
      "Title: Call a General Election\n",
      "Signatures: 3078089\n",
      "URL: https://petition.parliament.uk/petitions/700143\n",
      "\n",
      "🔹 Least Popular Petition (as of now):\n",
      "Title: We want Keith FC to be included in scorewars instead of the blatant ignoring.\n",
      "Signatures: 4\n",
      "URL: https://petition.parliament.uk/petitions/702540\n"
     ]
    }
   ],
   "source": [
    "most_signed = df.sort_values(\"Signatures Count\", ascending=False).iloc[0]\n",
    "least_signed = df[df[\"Signatures Count\"] > 0].sort_values(\"Signatures Count\").iloc[0]\n",
    "\n",
    "print(\"🔹 Most Popular Petition:\")\n",
    "print(f\"Title: {most_signed['Petition']}\")\n",
    "print(f\"Signatures: {most_signed['Signatures Count']}\")\n",
    "print(f\"URL: {most_signed['URL']}\")\n",
    "\n",
    "print(\"\\n🔹 Least Popular Petition (as of now):\")\n",
    "print(f\"Title: {least_signed['Petition']}\")\n",
    "print(f\"Signatures: {least_signed['Signatures Count']}\")\n",
    "print(f\"URL: {least_signed['URL']}\")"
   ]
  },
  {
   "cell_type": "markdown",
   "id": "a23e09f2",
   "metadata": {},
   "source": [
    "## Petition Status"
   ]
  },
  {
   "cell_type": "code",
   "execution_count": 74,
   "id": "c2e8342f",
   "metadata": {},
   "outputs": [
    {
     "data": {
      "image/png": "[encoded data removed]",
      "text/plain": [
       "<Figure size 500x500 with 1 Axes>"
      ]
     },
     "metadata": {},
     "output_type": "display_data"
    }
   ],
   "source": [
    "df[\"State\"].value_counts().plot(\n",
    "    kind='pie', \n",
    "    autopct='%1.1f%%', \n",
    "    startangle=90, \n",
    "    figsize=(5,5), \n",
    "    title=\"Petition distribution\"\n",
    ")\n",
    "plt.ylabel(\"\")\n",
    "plt.tight_layout()\n",
    "plt.show()"
   ]
  },
  {
   "cell_type": "markdown",
   "id": "b80f259d",
   "metadata": {},
   "source": [
    "## Signature Count Distribution"
   ]
  },
  {
   "cell_type": "code",
   "execution_count": 75,
   "id": "79f04023",
   "metadata": {},
   "outputs": [
    {
     "data": {
      "image/png": "[encoded data removed]",
      "text/plain": [
       "<Figure size 800x500 with 1 Axes>"
      ]
     },
     "metadata": {},
     "output_type": "display_data"
    }
   ],
   "source": [
    "df[\"Log Signature Count\"] = np.log10(df[\"Signatures Count\"] + 1)\n",
    "\n",
    "plt.figure(figsize=(8, 5))\n",
    "plt.hist(df[\"Log Signature Count\"], bins=40, color='cornflowerblue', edgecolor='black')\n",
    "plt.title(\"Distribution of Petition Signature Counts (optimized for log scale 10)\")\n",
    "plt.xlabel(\"Log10(Signature Count + 1)\")\n",
    "plt.ylabel(\"Number of Petitions\")\n",
    "plt.tight_layout()\n",
    "plt.show()\n",
    "#10^1 = 10 signatures\n",
    "#10^2 = 100 signatures\n",
    "#10^5 = 100000 signatures\n",
    "#and so on..."
   ]
  },
  {
   "cell_type": "markdown",
   "id": "36073f58",
   "metadata": {},
   "source": [
    "##  Top Petitions"
   ]
  },
  {
   "cell_type": "code",
   "execution_count": 76,
   "id": "568bb5cd",
   "metadata": {},
   "outputs": [
    {
     "data": {
      "application/vnd.microsoft.datawrangler.viewer.v0+json": {
       "columns": [
        {
         "name": "index",
         "rawType": "int64",
         "type": "integer"
        },
        {
         "name": "Petition",
         "rawType": "object",
         "type": "string"
        },
        {
         "name": "URL",
         "rawType": "object",
         "type": "string"
        },
        {
         "name": "State",
         "rawType": "object",
         "type": "string"
        },
        {
         "name": "Signatures Count",
         "rawType": "int64",
         "type": "integer"
        },
        {
         "name": "Log Signature Count",
         "rawType": "float64",
         "type": "float"
        }
       ],
       "conversionMethod": "pd.DataFrame",
       "ref": "052b6ec3-93d9-4b8f-9957-cbb4cca51626",
       "rows": [
        [
         "57",
         "Call a General Election",
         "https://petition.parliament.uk/petitions/700143",
         "open",
         "3078089",
         "6.488281313978872"
        ],
        [
         "819",
         "Raise the income tax personal allowance from £12,570 to £20,000 ",
         "https://petition.parliament.uk/petitions/702844",
         "open",
         "248404",
         "5.395160333253959"
        ],
        [
         "1152",
         "Ban immediately the use of dogs in scientific and regulatory procedures",
         "https://petition.parliament.uk/petitions/705384",
         "open",
         "238773",
         "5.377987034889161"
        ],
        [
         "298",
         "Close the borders! Suspend ALL immigration for 5 years!",
         "https://petition.parliament.uk/petitions/700824",
         "open",
         "227764",
         "5.357486988071876"
        ],
        [
         "282",
         "Introduce a compensation scheme for WASPI women",
         "https://petition.parliament.uk/petitions/700765",
         "open",
         "161557",
         "5.208328468202208"
        ]
       ],
       "shape": {
        "columns": 5,
        "rows": 5
       }
      },
      "text/html": [
       "<div>\n",
       "<style scoped>\n",
       "    .dataframe tbody tr th:only-of-type {\n",
       "        vertical-align: middle;\n",
       "    }\n",
       "\n",
       "    .dataframe tbody tr th {\n",
       "        vertical-align: top;\n",
       "    }\n",
       "\n",
       "    .dataframe thead th {\n",
       "        text-align: right;\n",
       "    }\n",
       "</style>\n",
       "<table border=\"1\" class=\"dataframe\">\n",
       "  <thead>\n",
       "    <tr style=\"text-align: right;\">\n",
       "      <th></th>\n",
       "      <th>Petition</th>\n",
       "      <th>URL</th>\n",
       "      <th>State</th>\n",
       "      <th>Signatures Count</th>\n",
       "      <th>Log Signature Count</th>\n",
       "    </tr>\n",
       "  </thead>\n",
       "  <tbody>\n",
       "    <tr>\n",
       "      <th>57</th>\n",
       "      <td>Call a General Election</td>\n",
       "      <td>https://petition.parliament.uk/petitions/700143</td>\n",
       "      <td>open</td>\n",
       "      <td>3078089</td>\n",
       "      <td>6.488281</td>\n",
       "    </tr>\n",
       "    <tr>\n",
       "      <th>819</th>\n",
       "      <td>Raise the income tax personal allowance from £...</td>\n",
       "      <td>https://petition.parliament.uk/petitions/702844</td>\n",
       "      <td>open</td>\n",
       "      <td>248404</td>\n",
       "      <td>5.395160</td>\n",
       "    </tr>\n",
       "    <tr>\n",
       "      <th>1152</th>\n",
       "      <td>Ban immediately the use of dogs in scientific ...</td>\n",
       "      <td>https://petition.parliament.uk/petitions/705384</td>\n",
       "      <td>open</td>\n",
       "      <td>238773</td>\n",
       "      <td>5.377987</td>\n",
       "    </tr>\n",
       "    <tr>\n",
       "      <th>298</th>\n",
       "      <td>Close the borders! Suspend ALL immigration for...</td>\n",
       "      <td>https://petition.parliament.uk/petitions/700824</td>\n",
       "      <td>open</td>\n",
       "      <td>227764</td>\n",
       "      <td>5.357487</td>\n",
       "    </tr>\n",
       "    <tr>\n",
       "      <th>282</th>\n",
       "      <td>Introduce a compensation scheme for WASPI women</td>\n",
       "      <td>https://petition.parliament.uk/petitions/700765</td>\n",
       "      <td>open</td>\n",
       "      <td>161557</td>\n",
       "      <td>5.208328</td>\n",
       "    </tr>\n",
       "  </tbody>\n",
       "</table>\n",
       "</div>"
      ],
      "text/plain": [
       "                                               Petition  \\\n",
       "57                              Call a General Election   \n",
       "819   Raise the income tax personal allowance from £...   \n",
       "1152  Ban immediately the use of dogs in scientific ...   \n",
       "298   Close the borders! Suspend ALL immigration for...   \n",
       "282     Introduce a compensation scheme for WASPI women   \n",
       "\n",
       "                                                  URL State  Signatures Count  \\\n",
       "57    https://petition.parliament.uk/petitions/700143  open           3078089   \n",
       "819   https://petition.parliament.uk/petitions/702844  open            248404   \n",
       "1152  https://petition.parliament.uk/petitions/705384  open            238773   \n",
       "298   https://petition.parliament.uk/petitions/700824  open            227764   \n",
       "282   https://petition.parliament.uk/petitions/700765  open            161557   \n",
       "\n",
       "      Log Signature Count  \n",
       "57               6.488281  \n",
       "819              5.395160  \n",
       "1152             5.377987  \n",
       "298              5.357487  \n",
       "282              5.208328  "
      ]
     },
     "execution_count": 76,
     "metadata": {},
     "output_type": "execute_result"
    }
   ],
   "source": [
    "df.sort_values(\"Signatures Count\", ascending=False).head()"
   ]
  }
 ],
 "metadata": {
  "kernelspec": {
   "display_name": "ds_env",
   "language": "python",
   "name": "python3"
  },
  "language_info": {
   "codemirror_mode": {
    "name": "ipython",
    "version": 3
   },
   "file_extension": ".py",
   "mimetype": "text/x-python",
   "name": "python",
   "nbconvert_exporter": "python",
   "pygments_lexer": "ipython3",
   "version": "3.10.16"
  }
 },
 "nbformat": 4,
 "nbformat_minor": 5
}
